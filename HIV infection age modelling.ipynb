{
 "cells": [
  {
   "cell_type": "markdown",
   "metadata": {},
   "source": [
    "# HIV Time Since Infection Modelling\n",
    "Peter Bork"
   ]
  },
  {
   "cell_type": "markdown",
   "metadata": {},
   "source": [
    "We seek a method to determine the time since HIV infection for a given HIV-positive person using only Next Generation Sequencing (NGS) reads of the virus in that patient's blood. This document will derive a mathematical model from the concrete biological circumstances and apply it in code to solve this problem."
   ]
  },
  {
   "cell_type": "markdown",
   "metadata": {},
   "source": [
    "### Mathematical model"
   ]
  },
  {
   "cell_type": "markdown",
   "metadata": {},
   "source": [
    "##### Basic setup\n",
    "Consider a set of locations in the genome of the first virus to infect a given person, $S$. $S$ can be the *pol* gene, the whole genome or, as will be important later, a selection of specific locations. The number of adenine bases will change from parent to offspring virus according to\n",
    "\n",
    "$$\n",
    "A_{g+1} = q_{AA} \\; A_g + q_{TA} \\; T_g + q_{CA} \\; C_g + q_{GA} \\; G_g - q_{AT} \\; A_g - q_{AC} \\; A_g - q_{AG} \\; A_g,\n",
    "$$\n",
    "\n",
    "where A, T, C and G refer to the four nucleotides and the subscript to the generation number of the virus ($g=0$ for the first virus entering the patient). The $q$ coefficients are the percent of nucleotides in the set which will be substituted in one generation, with $q_{AT}$ refering to the percent of adenines which become thymine (per generation) and so on."
   ]
  },
  {
   "cell_type": "markdown",
   "metadata": {},
   "source": [
    "##### Frequencies\n",
    "Divide through on both sides with the number of nucleotides in the set $S$ to get the frequency of nucleotides in the set rather than the absolute number:\n",
    "\n",
    "$$\n",
    "p(A_{g+1}) = q_{AA} \\; p(A_g) + q_{TA} \\; p(T_g) + q_{CA} \\; p(C_g) + q_{GA} \\; p(G_g) - q_{AT} \\; p(A_g) - q_{AC} \\; p(A_g) - q_{AG} \\; p(A_g),\n",
    "$$\n",
    "\n",
    "where we use the notation p(A) to refer to the frequency of the nucleotide and observe that we can similarly interpret this as the frequentist probability that a randomly chosen nucleotide in the set $S$ is adenine."
   ]
  },
  {
   "cell_type": "markdown",
   "metadata": {},
   "source": [
    "##### Matrix notation\n",
    "The equation for the frequency of adenines has natural parallels in equations for the three other bases, and we can conveniently arrange them using vector notation into\n",
    "\n",
    "$$\n",
    "F = [p(A), \\; p(T), \\; p(C), \\; p(G)]^T\n",
    "$$\n",
    "\n",
    "The difference equation can now be written as simply\n",
    "\n",
    "$$\n",
    "F_{g+1} = Q \\, F\n",
    "$$\n",
    "\n",
    "The matrix Q is a 4 by 4 matrix, where each column must sum to 1 because the sum of substitutions on a given set of bases must equal all the bases (since we count \"substitution\" to oneself). It therefore contains $4 \\times 4 - 4 = 12$ parameters.\n",
    "\n",
    "In the literature, Felsenstein 2004 calls this the general model (#REF)."
   ]
  },
  {
   "cell_type": "markdown",
   "metadata": {},
   "source": [
    "##### From difference to differential method\n",
    "(We'll use Newtons dot-notation to refer to differentiation w.r.t. generations rather than time)."
   ]
  },
  {
   "cell_type": "markdown",
   "metadata": {},
   "source": [
    "##### Solution to the HIV Time Since Infection problem\n",
    "The difference equations above have analytical solutions. For the matrix version, the solution is\n",
    "\n",
    "$$\n",
    "F_g = e^{Q g} F_0\n",
    "$$\n",
    "(Where subscript g refers to generation number g).\n",
    "\n",
    "\n",
    "Using knowledge of the substitution rates, initial set of nucleotides ($S_0$) and final frequency of nucleotides in the corresponding current set ($S_g$), the model can therefore theoretically be solved for the number of generations which have passed since infection."
   ]
  },
  {
   "cell_type": "markdown",
   "metadata": {},
   "source": [
    "##### Fundamental problem\n",
    "The fundamental problem with the model is that the solution in the form presented above requires knowledge about 12 parameters which are not all easy to determine.\n",
    "\n",
    "A second, smaller problem, is that the model requires knowledge of the initial infecting set $S_0$."
   ]
  },
  {
   "cell_type": "markdown",
   "metadata": {},
   "source": [
    "###### Model Assumptions\n",
    "This formulation disregards the stochastic nature of substitutions, but over many generations and many vira, this assumption should be permitted.\n",
    "\n",
    "The linear nature of this formulation also assumings that the number of bases in the set are near equilibrium such that we do not see non-linear effects (if e.g. the ratio of thymines to other bases were three times larger than freely available nucleotides, we would expect the substitution away from thymine to be greater in proportion to this discrepancy until equilibrium had been reached). (Using Hartman-Grobman we can show that the linear behavior should approximate the behavior of the non-linear system near the equilibirum)."
   ]
  },
  {
   "cell_type": "markdown",
   "metadata": {},
   "source": [
    "### Using biological insight to reduce the problem\n",
    "\n",
    "Biological insight allows us two crucial ways to apply the model presented above:\n",
    " 1. By carefully choosing the set of nucleotides we can reduce the dynamical system. \n",
    " 2. Some substitution rates can be estimated from NGS data due to ther potential for \"death codons\" (see below)."
   ]
  },
  {
   "cell_type": "markdown",
   "metadata": {},
   "source": [
    "##### Death-reduced genome locations\n",
    "Of the 64 codons available to the protein-coding genes, TAA, TAG are two stop codons with only a single letter substitution between them in the third position. \n",
    "\n",
    "In currently living virus populations, TAT and TAC codons in the middle of crucial protein-coding genes cannot ever have had an A or a G in the third position, since the population would then have ended at that generation. The nucleotide alphabet in these positions are therefore reduced from four to two nucleotides as long as the two other nucleotides remain TA.\n",
    "\n",
    "A change in either of the first two nucleotides will result in a change in amino acid away from tyrosine. Since tyrosine is the rarest of amino acids in the codon table - being represented only by TAT and TAC, - we should expect evolutionary fitness costs to weigh against the TAT and TAC codons changing much.\n",
    "\n",
    "The set of locations in the genome which are the third base in TAT or TAC codons are $S_{RD}$, the set of reduced death."
   ]
  },
  {
   "cell_type": "markdown",
   "metadata": {},
   "source": [
    "##### Death-reduced nucleotide evolution has reduced model complexity\n",
    "The mathematical model above reflects the frequency of nucloetides in a freely chosen set of nucleotides $S$. Let us choose only those positions in the set of reduced death, $S_{RD}$.\n",
    "\n",
    "It is crucial to remember that the model reflectes the history of a currently \"living\" virus population under the assumption that this population has maintained the tyrosine-coding codons as such throughout its history. Because the number of adenine and guanine nucloetides in the third position of the TAC and TAT codons cannot have happened,\n",
    "\n",
    "$$\n",
    "p(A) = p(G) = 0 \\quad for \\quad A,G \\in S_{RD}\n",
    "$$\n",
    "\n",
    "We know also that all rates of substitution into adenine and guanine in the history of a chosen virus will be zero in $S_{RD}$. Similarly, all rates of substitution from adenine or guanine to the other four nucleotides will have been zero in the history of the \"living\" virus."
   ]
  },
  {
   "cell_type": "markdown",
   "metadata": {},
   "source": [
    "##### Reduced mathematical model\n",
    "Applying these insights in the model derived above yields a simple system of two couple differential equations,\n",
    "\n",
    "$$\n",
    "\\dot{p}(C) = q_{TC} \\; p(T) - q_{CT} \\; p(C) \\quad for \\quad C, T \\in S_{RD} \\\\\n",
    "\\dot{p}(T) = q_{CT} \\; p(C) - q_{TC} \\; p(T) \\quad for \\quad C, T \\in S_{RD}\n",
    "$$\n",
    "\n",
    "Since $p(C) + p(T) = 1$, we can reduce this system to a single differential equation\n",
    "\n",
    "$$\n",
    "\\begin{align}\n",
    "\\dot{p}(C) &= q_{TC} \\; (1 - p(C)) - q_{CT} \\; p(C) &\\quad for \\quad C \\in S_{RD} \\\\\n",
    "           &= q_{TC} - (q_{TC} + g_{CT}) \\; p(C)    &\\quad for \\quad C \\in S_{RD}\n",
    "\\end{align}\n",
    "$$\n",
    "\n",
    "Only two parameters need now be determined, $q_{TC}$, and $q_{CT}$."
   ]
  },
  {
   "cell_type": "markdown",
   "metadata": {},
   "source": [
    "##### Solution to reduced model\n",
    "\n",
    "The solution is naturally the sum of the inhomogenous and the homogenous differential equations. At equilibrium, where $\\dot{p}(C) = 0$, we find by substitution the expected frequency of cytosines to be\n",
    "\n",
    "$$\n",
    "\\begin{equation}\n",
    "p^*(C) = \\frac{q_{TC}}{q_{TC} + q_{CT}} \\quad for \\quad C \\in S_{RD}\n",
    "\\end{equation}\n",
    "$$\n",
    "\n",
    "The fundamental solution is therefore\n",
    "\n",
    "$$\n",
    "p_g(C) = \\frac{q_{TC}}{q_{TC} + q_{CT}} + p_0 (C) \\;  e^{-(q_{TC} + g_{CT}) g} \\quad for \\quad C \\in S_{RD}\n",
    "$$\n",
    "\n",
    "Given the starting and final frequencies of cytosine, we can therefore estimate the number of generations of infection using\n",
    "\n",
    "$$\n",
    "\\hat{g} = \\frac{-1}{q_{TC} + q_{CT}} \\; \\ln\\Bigl(\\frac{p_g(C)}{p_0(C)} - \\frac{Q_{TC}}{p_0(C) \\, (q_{TC} + q_{CT})}\\Bigr) \\quad for \\quad C \\in S_{RD}\n",
    "$$\n",
    "\n",
    "As is evident from the logarithmic term, we require\n",
    "$$\n",
    "\\frac{p_g(C)}{p_0(C)} > \\frac{Q_{TC}}{p_0(C) \\, (q_{TC} + q_{CT})} \\quad\\Rightarrow\\quad\n",
    "p_g(C) > \\frac{q_{TC}}{q_{TC} + q_{CT}} \\quad\\Rightarrow\\quad\n",
    "p_g(C) > p^*(C) \\quad for \\quad C \\in S_{RD}\n",
    "$$\n",
    "\n",
    "In other words, the observed frequency of cytosines must be greater than the equilibrium level."
   ]
  },
  {
   "cell_type": "markdown",
   "metadata": {},
   "source": [
    "##### Final generation death rate in NGS data\n",
    "Even though the probability of a death codon having occurred in the history of the extant virus is zero, we will still find some death codons in NGS data since the last generation will sometimes get such substitutions. The solutions above therefore reflect the frequencies up until the generation preceeding the final generation.\n",
    "\n",
    "When calculating the frequencies of thymine substitutions for $TAC \\rightarrow TAT$ codons, we can consider all guanines and adenines in the third position to be outside of the virus population we are modelling. In NGS data, our $p(T)$ in these positions should therefore be calculated as\n",
    "$$\n",
    "p(C) = \\frac{p(C)}{p(C) + p(T)}  \\quad for \\quad C, T \\in S_{RD}\n",
    "$$\n",
    "rather than\n",
    "$$\n",
    "p(T) = \\frac{p(T)}{p(C) + p(T) + p(G) + p(A)}  \\quad for \\quad A, T, C, G \\in S\n",
    "$$"
   ]
  },
  {
   "cell_type": "markdown",
   "metadata": {},
   "source": [
    "###### Estimating the two substitution rates\n",
    "We wish to estimate the rate of substitution from thymine to cytosine and vice versa. We can use two lines of arguments,\n",
    " 1. The proportion of vira with death codons in which a C has been swithces to T represent the frequency of C to T substitutions\n",
    " 2. The observed overall ratio of TAC to TAT must be the equilibrium of the two rates and only one of these need therefore be measured."
   ]
  },
  {
   "cell_type": "markdown",
   "metadata": {},
   "source": [
    "###### Estimating substitution rates via death codon\n",
    "The codons CGA, CAA and CAG can become a stop codon with a single substitution of $C \\rightarrow T$. The frequency of these substitutions within crucial protein-coding genes correspond therefore to the substitution rate $q_{CT}$.\n",
    "\n",
    "The set of locations which are first nucleotide in CGA, CAA or CAG codons in the first 95% of a crucial protein-coding gene is $S_{DCC}$, the set of death codon cytosines.\n",
    "\n",
    "Unfortunately, the substitution rate $T \\rightarrow C$ cannot be determined by a similar measurement. Fortunately, we observe the ratio of TAT codons to TAC codons which must be determined by the rates $q_{CT}$ and $q_{TC}$.\n",
    "\n",
    "The equilibrium solution for the frequency of cytosines in set $S$ is mirrored by a similar solution to the frequency of thymines. The ratio of these two depend only on the two substitution rates we seek, and since we know both the ratio and one of the rates, we can simply solve for the other.\n",
    "\n",
    "Use $p^*(T) = (1-p^*(C)$ and a bit of algebraic manipulation to find\n",
    "$$\n",
    "q_{CT} = \\frac{p^*(C)}{p^*(T)} \\; q_{TC}  \\quad for \\quad C, T \\in S_{RD}\n",
    "$$\n",
    "\n",
    "Assuming $S_0$ has the equilibrium ratio of cytosines to thymines we can now estimate both substitution rates."
   ]
  },
  {
   "cell_type": "markdown",
   "metadata": {},
   "source": [
    "##### Estimating $p_0(C)$ and $p_g(C)$\n",
    "For bloodsamples where the TAT and TAC codons have no reads with the opposite nucleotide in the third position, we must assume that the virus has simply not substituted these locations. In fact, as long as the frequency of the alternate base is relatively far from equilibrium, we can identify the original virus' base as the most frequent one.\n",
    "\n",
    "For samples which have sufficiently short infection time, we are therefore able to determine both $p_g(C)$ and $p_0(C)$."
   ]
  },
  {
   "cell_type": "markdown",
   "metadata": {},
   "source": [
    "### Coding the solution"
   ]
  },
  {
   "cell_type": "markdown",
   "metadata": {},
   "source": [
    "We shall construct a python program which can eat a directory of pileup files and output a tab-separated file with infection age predictions as well as diagnostics for each pileup.\n",
    "\n",
    "The program may proceeed for each pileup file to\n",
    " 1. Read the *pol* gene and identify $S_{RD}$ and $S_{DCC}$ positions based on majority frequencies\n",
    "    - Find start-codon, use minimum frequency of all three codon bases.\n",
    " 2. Set $q_{CT}$ equal to the rate of death codons based on CGA, CAA and CAG codons having frequencies for TGA, TAA and TAG.\n",
    "    - Do not use codons near the 5% end of the pol gene.\n",
    " 3. Count the number of TAT and TAC codons based again on majority frequency (and frequency cut-off), and set $q_{TC}$ equal to $\\frac{TAC}{TAT} \\, q_{TC}$, (as per above).\n",
    " 4. For each TAT codon determined by majority frequency cut-off, find $p(C)$ and calculate $\\hat{g}$\n",
    " 5. For each TAC codon determined by majority frequency cut-off, find $p(T)$ and calculate $\\hat{g}$"
   ]
  },
  {
   "cell_type": "markdown",
   "metadata": {},
   "source": [
    "##### Estimate time since infection ($\\hat{g}$)"
   ]
  },
  {
   "cell_type": "code",
   "execution_count": 1,
   "metadata": {
    "collapsed": true
   },
   "outputs": [],
   "source": [
    "import numpy as np\n",
    "import matplotlib.pyplot as plt\n",
    "from typing import List"
   ]
  },
  {
   "cell_type": "code",
   "execution_count": 355,
   "metadata": {},
   "outputs": [],
   "source": [
    "def estimate_generations(pgs: float or List[float], qi: float, qo: float,\n",
    "                         p0: float=None) -> float:\n",
    "    \"\"\" Estimates number of generations from zero to mutation_rate_g\n",
    "    \n",
    "    Assumes positions are TAC or TAT position, and should be inside crucial protein-\n",
    "    coding gene (not nearer than 5% to the end of the gene).\n",
    "    \n",
    "    Assumes initial condition p0 is equilibrium frequencies (qi / (qi + qo)) if not given.\n",
    "    \n",
    "    based on\n",
    "    g = -(1 / (qi + qo)) * ln[(pg / p0) - qi / (p0*(qi + qo))],\n",
    "    where\n",
    "    :param pgs: mutation percentage at generation g of major base for each position\n",
    "    :param qi: rate of mutations into major base\n",
    "    :param qo: rate of mutations away from major base\n",
    "    :param p0: initial ratio of major base to minor base (cytosine to thymine)\n",
    "    :return: float estimated generation number between original virus and current.\n",
    "    :raises ValueError: if pg is less than equilibrium level.\n",
    "    \"\"\"\n",
    "    pgs = [pgs] if type(pgs) is float else pgs\n",
    "    p_equilibrium = qi / (qi + qo)\n",
    "    p0 = p0 or p_equilibrium\n",
    "    log_args = [(pg/p0) - qi / (p0*(qi + qo)) for pg in pgs]\n",
    "    \n",
    "    if any([log_arg <= 0 for log_arg in log_args]):\n",
    "        pg_min = min(pgs)\n",
    "        raise ValueError('Estimating generation number with mutation frequency less '\n",
    "                         'than equilibrium is not possible.\\n Minimum mutation frequency given '\n",
    "                         'is pg=%.2f, whereas equilibrium is %.2f.' % (pg_min, p_equilibrium))\n",
    "\n",
    "    return -(1 / (qi + qo)) * np.log(log_args)"
   ]
  },
  {
   "cell_type": "markdown",
   "metadata": {},
   "source": [
    "Assuming 1.2 days per generation, we get the following relation between substituion frequency and time since infection:"
   ]
  },
  {
   "cell_type": "code",
   "execution_count": 356,
   "metadata": {},
   "outputs": [
    {
     "data": {
      "image/png": "[encoded data removed]",
      "text/plain": [
       "<matplotlib.figure.Figure at 0x1b51cd26390>"
      ]
     },
     "metadata": {},
     "output_type": "display_data"
    }
   ],
   "source": [
    "years = lambda generations: generations * 1.2 / 365\n",
    "\n",
    "fig, ax1 = plt.subplots()\n",
    "x = np.linspace(1.0, 0.55, 50)\n",
    "gs = estimate_generations(x, 5*10**(-4), 5*10**(-4))\n",
    "x_axis = 100 * (1 - x)\n",
    "\n",
    "ax1.plot(x_axis, gs / 10**2)\n",
    "ax1.set_xlabel('Mutation frequency at generation g')\n",
    "ax1.set_ylabel('Generations (100)')\n",
    "ax1.set_title('Time since infection')\n",
    "ax2 = ax1.twinx()\n",
    "ax2.plot(x_axis, years(gs))\n",
    "ax2.set_ylabel('Years')\n",
    "\n",
    "fig.tight_layout()\n",
    "plt.show()"
   ]
  },
  {
   "cell_type": "markdown",
   "metadata": {},
   "source": [
    "##### Identifying the sets $S_{RD}$ and $S_{DCC}$"
   ]
  },
  {
   "cell_type": "code",
   "execution_count": 357,
   "metadata": {
    "collapsed": true
   },
   "outputs": [],
   "source": [
    "def s0_sequence(pileup: List[dict], threshold=0.8):\n",
    "    \"\"\" Returns the sequence of nucleotides based on major threshold.\n",
    "    \"\"\"\n",
    "    freqs_dict = lambda d: {key: value for key, value in d.items() if 'freq' in key}\n",
    "    major_base = lambda freqs_dict: max(freqs_dict.items(), key=lambda d: d[1])[0][0]\n",
    "    s0 = ''.join([major_base(freqs_dict(d)) for d in pileup])\n",
    "    return s0"
   ]
  },
  {
   "cell_type": "code",
   "execution_count": 358,
   "metadata": {
    "collapsed": true
   },
   "outputs": [],
   "source": [
    "def codonify_orf(sequence):\n",
    "    \"\"\" Returns sequence as list of codons. \"\"\"\n",
    "    s = s0.find('ATG')\n",
    "    if s == -1:\n",
    "        raise ValueError('srd_filter cannot find start codon in sequence:\\n%s' % s0)\n",
    "    firsts, seconds, thirds = s0[s::3], s0[(s+1)::3], s0[(s+2)::3]\n",
    "    codons = [first + second + third\n",
    "              for first, second, third in zip(firsts, seconds, thirds)]\n",
    "    return codons, s"
   ]
  },
  {
   "cell_type": "code",
   "execution_count": 359,
   "metadata": {
    "collapsed": true
   },
   "outputs": [],
   "source": [
    "def find_srd_locs(pileup: List[dict], s0=None):\n",
    "    \"\"\" Returns those genome locations which are in the set of death reduced locations.\n",
    "    \n",
    "    :param pileup: list of dictionaries of locations (must include X_freq keys for each base X).\n",
    "    :return: List of integers with 1-based location of final Ts and Cs in TAT and TAC codons.\n",
    "    \"\"\"\n",
    "    s0 = s0 or s0_sequence(pileup)\n",
    "    int_five_percent_codons = len(s0) // 20\n",
    "    codons, orf_offset = codonify_orf(s0)\n",
    "    codons = codons[:-int_five_percent_codons] if int_five_percent_codons > 0 else codons\n",
    "    if len(codons) == 0:\n",
    "        raise ValueError('Too short sequence given: %s' % s0)\n",
    "    srd_codon_nums = [i + 1 for i, codon in enumerate(codons)\n",
    "                      if codon == 'TAT' or codon == 'TAC']\n",
    "    srd_locs = [codon_num*3 + orf_offset for codon_num in srd_codon_nums]\n",
    "    return srd_locs"
   ]
  },
  {
   "cell_type": "code",
   "execution_count": 360,
   "metadata": {
    "collapsed": true
   },
   "outputs": [],
   "source": [
    "def find_sdcc_locs(pileup: List[dict], s0=None):\n",
    "    \"\"\" Returns those genome locations which are in the set of death codon cytosines.\n",
    "    \n",
    "    :param pileup: list of dictionaries of locations (must include X_freq keys for each base X).\n",
    "    :return: List of integers with 1-based location of first Cs in CGA, CAA and CAG codons.\n",
    "    \"\"\"\n",
    "    s0 = s0 or s0_sequence(pileup)\n",
    "    int_five_percent_codons = len(s0) // 20\n",
    "    codons, orf_offset = codonify_orf(s0)\n",
    "    codons = codons[:-int_five_percent_codons] if int_five_percent_codons > 0 else codons\n",
    "    if len(codons) == 0:\n",
    "        raise ValueError('Too short sequence given: %s' % s0)\n",
    "    sdcc_codon_nums = [i + 1 for i, codon in enumerate(codons)\n",
    "                       if codon in ['CGA', 'CAA', 'CAG']]\n",
    "    sdcc_locs = [codon_num*3 - 2 + orf_offset for codon_num in sdcc_codon_nums]\n",
    "    return sdcc_locs"
   ]
  },
  {
   "cell_type": "markdown",
   "metadata": {},
   "source": [
    "##### Count TAC to TAT ratio"
   ]
  },
  {
   "cell_type": "code",
   "execution_count": 361,
   "metadata": {
    "collapsed": true
   },
   "outputs": [],
   "source": [
    "def calc_tac_tat_ratio(sequence: str) -> float:\n",
    "    return sequence.count('TAC') / sequence.count('TAT')"
   ]
  },
  {
   "cell_type": "markdown",
   "metadata": {},
   "source": [
    "##### Estimate substitution rates"
   ]
  },
  {
   "cell_type": "code",
   "execution_count": 362,
   "metadata": {
    "collapsed": true
   },
   "outputs": [],
   "source": [
    "def estimate_qtc(pileup: List[dict], s0=None, sdcc_locations=None) -> (float, float, float):\n",
    "    sdcc_locs = sdcc_locations or find_sdcc_locs(pileup, s0)\n",
    "    sdcc = [pileup[i - 1] for i in sdcc_locs]\n",
    "    estimates = [d['T_freq'] for d in sdcc]\n",
    "    return np.mean(estimates), min(estimates), max(estimates)"
   ]
  },
  {
   "cell_type": "code",
   "execution_count": 363,
   "metadata": {
    "collapsed": true
   },
   "outputs": [],
   "source": [
    "def estimate_qct(pileup: List[dict], tac_tat_ratio: float=None,\n",
    "                 qtc: float=None, s0: str=None) -> (float, float, float):\n",
    "    s0 = s0 or s0_sequence(pileup)\n",
    "    r = tac_tat_ratio or calc_tac_tat_ratio(s0)\n",
    "    qtc_mean, qtc_min, qtc_max = estimate_qtc(pileup, s0=s0) if qtc is None else (qtc, qtc, qtc)\n",
    "    qct_mean, qct_min, qct_max = r * qtc_mean, r * qtc_min, r * qtc_max\n",
    "    return qct_mean, qct_min, qct_max"
   ]
  },
  {
   "cell_type": "markdown",
   "metadata": {},
   "source": [
    "##### Putting them together"
   ]
  },
  {
   "cell_type": "code",
   "execution_count": 373,
   "metadata": {},
   "outputs": [],
   "source": [
    "def estimate_patient_tsi(pileup: List[dict]) -> (float, float, float):\n",
    "    \"\"\" Returns tuple of mean, min and max estimates of time since infection (generations). \"\"\"\n",
    "    s0 = s0_sequence(pileup)\n",
    "    qtc_mean, qtc_min, qtc_max = estimate_qtc(pileup, s0=s0)\n",
    "    qct_mean, qct_min, qct_max = estimate_qct(pileup, s0=s0, qtc=qtc_mean)\n",
    "    \n",
    "    srd = [pileup[i - 1] for i in find_srd_locs(pileup)]\n",
    "    srd_s0 = s0_sequence(srd)\n",
    "    p0 = srd_s0.count('C') / (srd_s0.count('T') + srd_s0.count('C'))\n",
    "    pgs = [1 - min(d['C_freq'], d['T_freq']) for d in srd]\n",
    "\n",
    "    try:\n",
    "        g_estimates = estimate_generations(pgs, qtc_mean, qct_mean, p0)\n",
    "    except Exception as e:\n",
    "        print('p0: ', p0)\n",
    "        print('qct: ', qct_mean)\n",
    "        print('qtc: ', qtc_mean)\n",
    "        print('pgs: ', pgs)\n",
    "        raise e\n",
    "    \n",
    "    return np.mean(g_estimates), min(g_estimates), max(g_estimates)"
   ]
  },
  {
   "cell_type": "markdown",
   "metadata": {},
   "source": [
    "##### Running tests"
   ]
  },
  {
   "cell_type": "code",
   "execution_count": 374,
   "metadata": {
    "collapsed": true
   },
   "outputs": [],
   "source": [
    "dA = {'A_freq': 0.97, 'C_freq': 0.01, 'T_freq': 0.01, 'G_freq': 0.01, 'reference': 'C', 'depth': 1000}\n",
    "dT = {'A_freq': 0.01, 'C_freq': 0.01, 'T_freq': 0.97, 'G_freq': 0.01, 'reference': 'C', 'depth': 1000}\n",
    "dG = {'A_freq': 0.01, 'C_freq': 0.01, 'T_freq': 0.01, 'G_freq': 0.97, 'reference': 'C', 'depth': 1000}\n",
    "dC = {'A_freq': 0.01, 'C_freq': 0.97, 'T_freq': 0.01, 'G_freq': 0.01, 'reference': 'C', 'depth': 1000}"
   ]
  },
  {
   "cell_type": "code",
   "execution_count": 375,
   "metadata": {},
   "outputs": [
    {
     "data": {
      "text/plain": [
       "'ATGTATTACCAACAGTAC'"
      ]
     },
     "execution_count": 375,
     "metadata": {},
     "output_type": "execute_result"
    }
   ],
   "source": [
    "pile = [dA, dT, dG]\n",
    "pile = pile + [dT, dA, dT] + [dT, dA, dC] + [dC, dA, dA] + [dC, dA, dG] + [dT, dA, dC]\n",
    "s0_sequence(pile)"
   ]
  },
  {
   "cell_type": "code",
   "execution_count": 376,
   "metadata": {},
   "outputs": [
    {
     "data": {
      "text/plain": [
       "'ATGTATTACCAACAGTAC'"
      ]
     },
     "execution_count": 376,
     "metadata": {},
     "output_type": "execute_result"
    }
   ],
   "source": [
    "s0 = s0_sequence(pile)\n",
    "s0"
   ]
  },
  {
   "cell_type": "code",
   "execution_count": 377,
   "metadata": {},
   "outputs": [
    {
     "name": "stdout",
     "output_type": "stream",
     "text": [
      "[6, 9, 18]\n",
      "[{'A_freq': 0.01, 'C_freq': 0.01, 'T_freq': 0.97, 'G_freq': 0.01, 'reference': 'C', 'depth': 1000}, {'A_freq': 0.01, 'C_freq': 0.97, 'T_freq': 0.01, 'G_freq': 0.01, 'reference': 'C', 'depth': 1000}, {'A_freq': 0.01, 'C_freq': 0.97, 'T_freq': 0.01, 'G_freq': 0.01, 'reference': 'C', 'depth': 1000}]\n",
      "TCC\n"
     ]
    }
   ],
   "source": [
    "print(find_srd_locs(pile))\n",
    "srd = [pile[i - 1] for i in find_srd_locs(pile)]\n",
    "print(srd)\n",
    "srd_s0 = s0_sequence(srd)\n",
    "print(srd_s0)"
   ]
  },
  {
   "cell_type": "code",
   "execution_count": 378,
   "metadata": {},
   "outputs": [
    {
     "data": {
      "text/plain": [
       "[10, 13]"
      ]
     },
     "execution_count": 378,
     "metadata": {},
     "output_type": "execute_result"
    }
   ],
   "source": [
    "find_sdcc_locs(pile)"
   ]
  },
  {
   "cell_type": "code",
   "execution_count": 379,
   "metadata": {},
   "outputs": [
    {
     "data": {
      "text/plain": [
       "(0.01, 0.01, 0.01)"
      ]
     },
     "execution_count": 379,
     "metadata": {},
     "output_type": "execute_result"
    }
   ],
   "source": [
    "estimate_qtc(pile)"
   ]
  },
  {
   "cell_type": "code",
   "execution_count": 380,
   "metadata": {},
   "outputs": [
    {
     "data": {
      "text/plain": [
       "(0.02, 0.02, 0.02)"
      ]
     },
     "execution_count": 380,
     "metadata": {},
     "output_type": "execute_result"
    }
   ],
   "source": [
    "estimate_qct(pile)"
   ]
  },
  {
   "cell_type": "code",
   "execution_count": 381,
   "metadata": {},
   "outputs": [
    {
     "data": {
      "text/plain": [
       "(0.50378792700160613, 0.50378792700160613, 0.50378792700160613)"
      ]
     },
     "execution_count": 381,
     "metadata": {},
     "output_type": "execute_result"
    }
   ],
   "source": [
    "estimate_patient_tsi(pile)"
   ]
  }
 ],
 "metadata": {
  "kernelspec": {
   "display_name": "Python 3",
   "language": "python",
   "name": "python3"
  },
  "language_info": {
   "codemirror_mode": {
    "name": "ipython",
    "version": 3
   },
   "file_extension": ".py",
   "mimetype": "text/x-python",
   "name": "python",
   "nbconvert_exporter": "python",
   "pygments_lexer": "ipython3",
   "version": "3.6.1"
  }
 },
 "nbformat": 4,
 "nbformat_minor": 2
}
